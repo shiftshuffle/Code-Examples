{
 "metadata": {
  "name": "",
  "signature": "sha256:f1b1af7a1baa5e36721e3ed06b7bfec145960496b3a3a0d4c55030f2b1d50fcd"
 },
 "nbformat": 3,
 "nbformat_minor": 0,
 "worksheets": [
  {
   "cells": [
    {
     "cell_type": "markdown",
     "metadata": {},
     "source": [
      "This are some algorithms i have written related to Hidden Markov Models\n",
      "the ones i haven't written, are deeply related and would like to have are:\n",
      "\n",
      "* Viterbi algorithm\n",
      "* Viterbi training\n",
      "* Baum-Welch\n",
      "\n",
      "i followed the specifications in here: http://www.iro.umontreal.ca/~csuros/IFT3290/materiel/Brehelin.pdf\n",
      "i think it is nicely explained, mostly in the pseudocode and because they give an example which in fact it is the same i tested,\n",
      "for example they mention the probabiliy for the path 'abccb' is 6.9*10^-3 which agrees with what we got 0.0068625 \n",
      "\n",
      "\n",
      "\n"
     ]
    },
    {
     "cell_type": "code",
     "collapsed": false,
     "input": [
      "from numpy.random import choice\n",
      "\n",
      "O = ['a', 'b', 'c']  #Symbols that each state may produce\n",
      "\n",
      "S =[-1,1,2,3,4,5]  #States that the HMM may reach, we start implicitly in the start state and the end state is -1\n",
      "\n",
      "G = [[1,0,0],[.2,.8,0],[0,.75,.25],[.6,.1,.3],[0,0,1]]  #this are the probabilities of output the symbols in O knowing we are in state S\n",
      "                                                        #explicitly G[s-1][i] is the probability of the output being O[i] given we are\n",
      "                                                        # in state S[s]\n",
      "        \n",
      "T = [[0,.5,.5,0,0,0],[0,0,0,.7,.3,0],[.5,0,0,0,.5,0],[0,0,0,0,0,1],[.4,0,0,0,0,.6],[0,.5,.25,0,0,.25]]\n",
      "#This are the transition probabilities between states, T[i][j] for i \\neq 0  is the probability of going from state S[i] to S[j] \n",
      "#and for i=0 ,  T[0]T[0] is for going from start to end and T[0][j] is for going from start to S[j]\n",
      "\n",
      "\n",
      "def forward(o):\n",
      "\tu=O.index(o[0])\n",
      "\talpha=[T[0][s]*G[s-1][u] for s in range(1,len(S))]\n",
      "\tfor i in range(1,len(o)):\n",
      "\t\tu=O.index(o[i])\n",
      "\t\talpha_prime=[sum([alpha[h-1]*T[h][s] for h in range(1,len(S))])*G[s-1][u] for s in range(1,len(S))]\n",
      "\t\talpha=alpha_prime\n",
      "\tp=sum([alpha[h-1]*T[h][0] for h in range(1,len(S))])\n",
      "\treturn p\n",
      "\n",
      "def backwards(o):\n",
      "\tbeta=[T[s][0] for s in range(1,len(S))]\n",
      "\tfor i in range(1,len(o)):\n",
      "\t\tu=O.index(o[len(o)-i])\n",
      "\t\tbeta_prime=[sum([beta[h-1]*T[s][h]*G[h-1][u] for h in range(1,len(S))]) for s in range(1,len(S))]\n",
      "\t\tbeta=beta_prime\n",
      "\tp=sum([beta[h-1]*T[0][h] for h in range(1,len(S))])\n",
      "\treturn p\t\n",
      "\n",
      "def viterbi_prob(o):\n",
      "\tu=O.index(o[0])\n",
      "\tdelta=[T[0][1]*G[1-1][u] for s in range(1,len(S))]\n",
      "\tfor i in range(1,len(o)):\n",
      "\t\tu=O.index(o[i])\n",
      "\t\tdelta_prime=[max([delta[h-1]*T[h][s] for h in range(1,len(S))])*G[s-1][u] for s in range(1,len(S))]\n",
      "\t\tdelta=delta_prime\n",
      "\tp=max([delta[h-1]*T[h][0] for h in range(1,len(S))])\n",
      "\treturn p\n",
      "\n",
      "def observe(n):\n",
      "    e=0\n",
      "    seq=''\n",
      "    count=0\n",
      "    et=''\n",
      "    while(e!=-1 and count<n):\n",
      "        e=int(choice(S, p=T[e]))\n",
      "        seq+=choice(O,p=G[e-1])\n",
      "        count+=1\n",
      "        et+=str(e)\n",
      "    return et,seq\n",
      "\n",
      "\n",
      "\n",
      "print(observe(6)) #outputs a pair the first coordinate being sequence of states (-1 is end) and second is the accumulated outputs in each state\n",
      "                  #if it encounters end state it prints until there, otherwise until 6 iterations in this example\n",
      "print(forward('abccb')) #probabilty that the HMM has as output this sequence (in here 'abccb') calculated forwards\n",
      "print(backwards('abccb')) #probability that the HMM has as output this sequence (in here 'abccb') calculated backwards\n",
      "print(viterbi_prob('abccb')) #determines the highest of the probabilities that the HMM following a CERTAIN path has as output this sequence (in here 'abccb')\n",
      "\n",
      "\n",
      "\n",
      "\n"
     ],
     "language": "python",
     "metadata": {},
     "outputs": []
    },
    {
     "cell_type": "markdown",
     "metadata": {},
     "source": [
      "Here i show up the code to find solution of the coin change problem http://rosalind.info/problems/5a/\n",
      "\n",
      "following the ideas in this amazing book (favorite) http://bix.ucsd.edu/bioalgorithms/book/excerpt-ch6.pdf\n",
      "\n",
      "this shows a special float 'infinity' which when compared to any other it is grater"
     ]
    },
    {
     "cell_type": "code",
     "collapsed": false,
     "input": [
      "k=18721\n",
      "c=[1,3,5,15,20]\n",
      "d=len(c)\n",
      "BestNumCoins=[0 for i in range(k+1)]\n",
      "\n",
      "for m in range(1,k+1):\n",
      "\tBestNumCoins[m]=float('inf')\n",
      "\tfor i in range(d):\n",
      "\t\tif m >= c[i]:\n",
      "\t\t\tif BestNumCoins[m-c[i]]+1 < BestNumCoins[m]:\n",
      "\t\t\t\tBestNumCoins[m] = BestNumCoins[m-c[i]]+1\n",
      "print(BestNumCoins.pop())"
     ],
     "language": "python",
     "metadata": {},
     "outputs": [
      {
       "output_type": "stream",
       "stream": "stdout",
       "text": [
        "937\n"
       ]
      }
     ],
     "prompt_number": 25
    },
    {
     "cell_type": "markdown",
     "metadata": {},
     "source": [
      "Here is an example of a generator (please send more if you know)"
     ]
    },
    {
     "cell_type": "code",
     "collapsed": false,
     "input": [
      "#generators\n",
      "def fib(max):\n",
      "    a, b = 0, 1          \n",
      "    while a < max:\n",
      "        yield a          \n",
      "        a, b = b, a + b  \n",
      "\n",
      "\n",
      "for n in fib(1000): \n",
      "\tprint(n,end=' ') \n",
      "    \n",
      "print()\n",
      "print(list(fib(100)))"
     ],
     "language": "python",
     "metadata": {},
     "outputs": [
      {
       "output_type": "stream",
       "stream": "stdout",
       "text": [
        "0 1 1 2 3 5 8 13 21 34 55 89 144 233 377 610 987 \n",
        "[0, 1, 1, 2, 3, 5, 8, 13, 21, 34, 55, 89]\n"
       ]
      }
     ],
     "prompt_number": 31
    },
    {
     "cell_type": "markdown",
     "metadata": {},
     "source": [
      "And here is an example of the resulting evoultion of an L-system which afterwards i used in Processing Program to make a pretty picture\n",
      "here is a pdf about L-systems http://algorithmicbotany.org/papers/abop/abop-ch1.pdf"
     ]
    },
    {
     "cell_type": "code",
     "collapsed": false,
     "input": [
      "from __future__ import print_function\n",
      "o=open(r\"C:\\Users\\Paco\\Downloads\\sketch6511\\LSystemPlants\\data\\out.txt\",'w') #this opens the file in which the output will be allocated\n",
      "\n",
      "dic = {ord('X'): 'F-+[[X]][X]++[X]++[X]++[X]--[X]F++F+X-',ord('F'): 'FF'} #this says how the system should evolve\n",
      "s = 'F-X' #starting generation (called axiom)\n",
      "\n",
      "for i in range(7): \n",
      "\ts=s.translate(dic)\n",
      "print(s,file=o)\n",
      "\n",
      "#you could use instead print(s) it computes fast but its a long output\n"
     ],
     "language": "python",
     "metadata": {},
     "outputs": [],
     "prompt_number": 32
    },
    {
     "cell_type": "code",
     "collapsed": false,
     "input": [],
     "language": "python",
     "metadata": {},
     "outputs": []
    }
   ],
   "metadata": {}
  }
 ]
}